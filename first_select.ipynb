{
 "cells": [
  {
   "cell_type": "markdown",
   "metadata": {
    "toc": true
   },
   "source": [
    "<h1>目录<span class=\"tocSkip\"></span></h1>\n",
    "<div class=\"toc\"><ul class=\"toc-item\"><li><span><a href=\"#导包\" data-toc-modified-id=\"导包-1\">导包</a></span></li><li><span><a href=\"#数据预处理\" data-toc-modified-id=\"数据预处理-2\">数据预处理</a></span></li><li><span><a href=\"#数据读入\" data-toc-modified-id=\"数据读入-3\">数据读入</a></span></li><li><span><a href=\"#分词预览\" data-toc-modified-id=\"分词预览-4\">分词预览</a></span></li><li><span><a href=\"#统计高频词\" data-toc-modified-id=\"统计高频词-5\">统计高频词</a></span><ul class=\"toc-item\"><li><span><a href=\"#代码实现\" data-toc-modified-id=\"代码实现-5.1\">代码实现</a></span></li><li><span><a href=\"#查看词表\" data-toc-modified-id=\"查看词表-5.2\">查看词表</a></span></li></ul></li><li><span><a href=\"#TF-IDF\" data-toc-modified-id=\"TF-IDF-6\">TF-IDF</a></span><ul class=\"toc-item\"><li><span><a href=\"#代码实现\" data-toc-modified-id=\"代码实现-6.1\">代码实现</a></span></li><li><span><a href=\"#查看词表\" data-toc-modified-id=\"查看词表-6.2\">查看词表</a></span></li></ul></li><li><span><a href=\"#词表筛选\" data-toc-modified-id=\"词表筛选-7\">词表筛选</a></span><ul class=\"toc-item\"><li><span><a href=\"#阈值选取\" data-toc-modified-id=\"阈值选取-7.1\">阈值选取</a></span></li><li><span><a href=\"#进行筛选\" data-toc-modified-id=\"进行筛选-7.2\">进行筛选</a></span></li></ul></li><li><span><a href=\"#保存分词\" data-toc-modified-id=\"保存分词-8\">保存分词</a></span></li><li><span><a href=\"#手动筛选\" data-toc-modified-id=\"手动筛选-9\">手动筛选</a></span></li></ul></div>"
   ]
  },
  {
   "cell_type": "markdown",
   "metadata": {},
   "source": [
    "## 导包"
   ]
  },
  {
   "cell_type": "code",
   "execution_count": 1,
   "metadata": {
    "ExecuteTime": {
     "end_time": "2020-03-10T05:51:33.671224Z",
     "start_time": "2020-03-10T05:51:32.859794Z"
    }
   },
   "outputs": [],
   "source": [
    "import json\n",
    "import re\n",
    "import jieba\n",
    "import pandas as pd\n",
    "\n",
    "# tf-idf\n",
    "import math\n",
    "import functools\n",
    "import numpy as np"
   ]
  },
  {
   "cell_type": "markdown",
   "metadata": {},
   "source": [
    "## 数据预处理"
   ]
  },
  {
   "cell_type": "code",
   "execution_count": 2,
   "metadata": {
    "ExecuteTime": {
     "end_time": "2020-03-10T05:51:34.459251Z",
     "start_time": "2020-03-10T05:51:34.453247Z"
    }
   },
   "outputs": [],
   "source": [
    "intent_index = {\n",
    "    '建议运动': '0',\n",
    "    '治疗方案': '0',\n",
    "    '药物': '0',\n",
    "    '检查项目': '0',\n",
    "    '无': '0',\n",
    "    '症状': '0',\n",
    "    '疾病': '0',\n",
    "    '建议食物': '0',\n",
    "    '治疗价格': '0',\n",
    "    '病因': '0',\n",
    "    '简介': '0',\n",
    "    '诊断': '0',\n",
    "    '预防措施': '0',\n",
    "    '科室': '0',\n",
    "    '禁忌食物': '0',\n",
    "    '医疗机构': '0',\n",
    "    '康复疗法': '0',\n",
    "    '用药指南': '0',\n",
    "    '食物': '0',\n",
    "    '禁忌运动': '0'\n",
    "}\n",
    "\n",
    "# 疾病词典地址\n",
    "disease_path = 'D:/PycharmProjects/job/job/diseases.json'\n",
    "\n",
    "# 症状词典地址\n",
    "symptoms_path = 'D:/PycharmProjects/job/job/symptoms.json'"
   ]
  },
  {
   "cell_type": "code",
   "execution_count": 3,
   "metadata": {
    "ExecuteTime": {
     "end_time": "2020-03-10T05:51:35.434803Z",
     "start_time": "2020-03-10T05:51:35.429799Z"
    }
   },
   "outputs": [],
   "source": [
    "# 加载字典 json读入内存转dict后再转成list\n",
    "def json2list(path):\n",
    "    with open(path, encoding='utf-8') as file:\n",
    "        data = json.load(file)\n",
    "    return [d['name'] for d in data]"
   ]
  },
  {
   "cell_type": "code",
   "execution_count": null,
   "metadata": {
    "ExecuteTime": {
     "end_time": "2020-03-07T13:23:44.449136Z",
     "start_time": "2020-03-07T13:23:44.429124Z"
    }
   },
   "outputs": [],
   "source": [
    "# 疾病词典\n",
    "diseases = json2list(disease_path)\n",
    "\n",
    "# 保存\n",
    "with open('user_dict.txt',\"w\", encoding='utf-8') as f:\n",
    "    for d in diseases:\n",
    "        f.writelines(d)\n",
    "        f.writelines(\"\\n\")"
   ]
  },
  {
   "cell_type": "code",
   "execution_count": null,
   "metadata": {
    "ExecuteTime": {
     "end_time": "2020-03-07T13:23:47.097993Z",
     "start_time": "2020-03-07T13:23:47.068975Z"
    }
   },
   "outputs": [],
   "source": [
    "# 症状词典        \n",
    "symptoms = json2list(symptoms_path)\n",
    "\n",
    "# 保存\n",
    "with open('user_dict.txt',\"a+\", encoding='utf-8') as f:\n",
    "    for s in symptoms:\n",
    "        f.writelines(s)\n",
    "        f.writelines(\"\\n\")"
   ]
  },
  {
   "cell_type": "code",
   "execution_count": null,
   "metadata": {
    "ExecuteTime": {
     "end_time": "2020-03-07T13:23:57.474779Z",
     "start_time": "2020-03-07T13:23:57.455768Z"
    }
   },
   "outputs": [],
   "source": [
    "# 常用语词典\n",
    "oral_list = [\n",
    "    '怎么了',\n",
    "    '怎么办',\n",
    "    '干啥',\n",
    "    '咋回事',\n",
    "    '吃啥',\n",
    "    '吃什么',\n",
    "    '什么样子',\n",
    "    '怎么回事',\n",
    "    '是什么',\n",
    "    '为什么',\n",
    "    '做什么',\n",
    "    '何为',\n",
    "    '好治吗',\n",
    "    '能治好吗',\n",
    "    '什么意思',\n",
    "    '康复运动',\n",
    "    '康复锻炼',\n",
    "    '康复的快',\n",
    "    '什么是',\n",
    "    '好的快',\n",
    "    '什么是',\n",
    "    '不能',\n",
    "    '不应该',\n",
    "    '什么药好',\n",
    "    '不该',\n",
    "    '什么项目',\n",
    "    '什么意思',\n",
    "    '是什么'\n",
    "]\n",
    "\n",
    "# 保存\n",
    "with open('user_dict.txt',\"a+\", encoding='utf-8') as f:\n",
    "    for o in oral_list:\n",
    "        f.writelines(o)\n",
    "        f.writelines(\"\\n\")"
   ]
  },
  {
   "cell_type": "code",
   "execution_count": 4,
   "metadata": {
    "ExecuteTime": {
     "end_time": "2020-03-10T05:51:40.642704Z",
     "start_time": "2020-03-10T05:51:40.637703Z"
    }
   },
   "outputs": [],
   "source": [
    "def clean_query(sentence):\n",
    "    \"\"\"\n",
    "    去除特殊字符和空格,用于分词\n",
    "    \"\"\"\n",
    "    punctuation = '@#$%^&*()_+=-`，：*《》<>|（）、｛｝【】“”‘’。.!！，,;:?？\"\\''\n",
    "    return re.sub(\n",
    "        r'[{}]+'.format(punctuation), '',\n",
    "        sentence.replace(' ', '')\n",
    "    )"
   ]
  },
  {
   "cell_type": "code",
   "execution_count": null,
   "metadata": {
    "ExecuteTime": {
     "end_time": "2020-03-10T05:09:13.657401Z",
     "start_time": "2020-03-10T05:09:13.652417Z"
    }
   },
   "outputs": [],
   "source": [
    "def clean_query2(sentence):\n",
    "    \"\"\"\n",
    "    去除特殊字符和空格,用于筛选数据\n",
    "    去掉奇异字符,保留原数据\n",
    "    \"\"\"\n",
    "    punctuation = '@#$%^&*()_+=-`*《》<>|（）｛｝【】‘’.!！,;:\"\\''\n",
    "    return re.sub(\n",
    "        r'[{}]+'.format(punctuation), '',\n",
    "        sentence.replace(' ', '')\n",
    "    )"
   ]
  },
  {
   "cell_type": "code",
   "execution_count": 5,
   "metadata": {
    "ExecuteTime": {
     "end_time": "2020-03-10T05:51:43.252266Z",
     "start_time": "2020-03-10T05:51:43.244261Z"
    }
   },
   "outputs": [],
   "source": [
    "def text_from_feature(feature, single_data, multi_data=None):\n",
    "    \"\"\"\n",
    "    从数据集中选择unknown列为feature值的querys\n",
    "    将其拼接为一段文本\n",
    "    并进行特殊字符串处理\n",
    "    \"\"\"\n",
    "    # 处理单意图文件\n",
    "    temp = single_data[single_data['unknown']==feature]\n",
    "    querys = temp['question']\n",
    "    text = ''\n",
    "    for q in querys:\n",
    "        text += clean_query(q)\n",
    "        \n",
    "    # 处理多意图文件\n",
    "    if multi_data is not None:\n",
    "        for index, line in multi_data.iterrows():\n",
    "            unknown_list = line['unknown'].split(',')\n",
    "            if feature in unknown_list:\n",
    "                text += clean_query(str(line['question']))\n",
    "            \n",
    "    return text"
   ]
  },
  {
   "cell_type": "code",
   "execution_count": 6,
   "metadata": {
    "ExecuteTime": {
     "end_time": "2020-03-10T05:51:44.518557Z",
     "start_time": "2020-03-10T05:51:44.512552Z"
    }
   },
   "outputs": [],
   "source": [
    "def get_stop_words(path):\n",
    "    \"\"\"从路径path中加载停止词词典\"\"\"\n",
    "    with open(path, encoding='utf-8') as file:\n",
    "        return [line.strip() for line in file]\n",
    "\n",
    "# 停止词词典 \n",
    "stop_words = get_stop_words('./data/stop_words.utf8')"
   ]
  },
  {
   "cell_type": "markdown",
   "metadata": {},
   "source": [
    "## 数据读入"
   ]
  },
  {
   "cell_type": "code",
   "execution_count": 7,
   "metadata": {
    "ExecuteTime": {
     "end_time": "2020-03-10T05:51:47.007336Z",
     "start_time": "2020-03-10T05:51:46.985341Z"
    }
   },
   "outputs": [],
   "source": [
    "single_path = 'D:/GitHub/bert_finetune-master/data/single/single.tsv'\n",
    "multi_path = 'D:/GitHub/bert_finetune-master/data/multi/multi.tsv'\n",
    "single_data = pd.read_csv(single_path, sep='\\t')\n",
    "multi_data = pd.read_csv(multi_path, sep='\\t')"
   ]
  },
  {
   "cell_type": "markdown",
   "metadata": {},
   "source": [
    "## 分词预览"
   ]
  },
  {
   "cell_type": "code",
   "execution_count": 8,
   "metadata": {
    "ExecuteTime": {
     "end_time": "2020-03-10T05:51:50.664963Z",
     "start_time": "2020-03-10T05:51:50.656957Z"
    }
   },
   "outputs": [],
   "source": [
    "def split_result(text, intent=None, clean=True):\n",
    "    \"\"\"\n",
    "    基于自定义词典对text进行分词,\n",
    "    去掉停止词,\n",
    "    打印分词结果\n",
    "    clean指定是否需要将分词结果去掉疾病和症状字典,\n",
    "    默认为True,去掉\n",
    "    \"\"\"\n",
    "    # 读入词典\n",
    "    dict_path = './user_dict.txt'\n",
    "    jieba.load_userdict(dict_path)\n",
    "\n",
    "    # 进行分词\n",
    "    split_words = list(jieba.cut(text))\n",
    "    split_words = [word for word in split_words if word not in stop_words]\n",
    "    \n",
    "    if clean:\n",
    "        diseases = json2list(disease_path)\n",
    "        symptoms = json2list(symptoms_path)\n",
    "        diseases.extend(symptoms)\n",
    "        split_words = [word for word in split_words if word not in diseases]\n",
    "    # 打印结果\n",
    "    if intent is not None:\n",
    "        print(\n",
    "            \"split result of {}:{}\".format(\n",
    "                intent,\n",
    "                '/'.join(split_words)\n",
    "            )  \n",
    "        )\n",
    "\n",
    "    return split_words"
   ]
  },
  {
   "cell_type": "code",
   "execution_count": null,
   "metadata": {
    "ExecuteTime": {
     "end_time": "2020-03-10T05:09:26.894768Z",
     "start_time": "2020-03-10T05:09:26.799700Z"
    }
   },
   "outputs": [],
   "source": [
    "t = text_from_feature('简介', single_data, multi_data)\n",
    "print(t)"
   ]
  },
  {
   "cell_type": "code",
   "execution_count": null,
   "metadata": {
    "ExecuteTime": {
     "end_time": "2020-03-10T05:09:34.089739Z",
     "start_time": "2020-03-10T05:09:32.930079Z"
    }
   },
   "outputs": [],
   "source": [
    "split_result(t, '简介')"
   ]
  },
  {
   "cell_type": "markdown",
   "metadata": {},
   "source": [
    "## 统计高频词"
   ]
  },
  {
   "cell_type": "markdown",
   "metadata": {},
   "source": [
    "### 代码实现"
   ]
  },
  {
   "cell_type": "code",
   "execution_count": 48,
   "metadata": {
    "ExecuteTime": {
     "end_time": "2020-03-10T06:31:29.759081Z",
     "start_time": "2020-03-10T06:31:29.754078Z"
    }
   },
   "outputs": [],
   "source": [
    "# 统计高频词\n",
    "\n",
    "def get_TF(words, topK=10):\n",
    "    \"\"\"从分词后的结果列表words中提取出出现频率最高的前topK个词\"\"\"\n",
    "    tf_dic = {}\n",
    "    for word in words:\n",
    "        tf_dic[word] = tf_dic.get(word, 0) + 1\n",
    "    # dic[1] 按出现次数排序 reverse = True 降序 \n",
    "    # sorted结果为一个list,返回前topK个元素\n",
    "    return sorted(tf_dic.items(), key=lambda dic: dic[1], reverse=True)[:topK]"
   ]
  },
  {
   "cell_type": "code",
   "execution_count": 49,
   "metadata": {
    "ExecuteTime": {
     "end_time": "2020-03-10T06:31:30.557946Z",
     "start_time": "2020-03-10T06:31:30.553944Z"
    }
   },
   "outputs": [],
   "source": [
    "def word_frequency(text, intent, topk):\n",
    "    \"\"\"\n",
    "    输出前topk的单词\n",
    "    \"\"\"\n",
    "    \n",
    "    # 进行分词\n",
    "    split_words = split_result(text)\n",
    "    \n",
    "    # 输出结果\n",
    "    print(\n",
    "        '{} top{} word:{}'.format(\n",
    "            intent, \n",
    "            topk,\n",
    "            str(get_TF(split_words,topk))\n",
    "        )\n",
    "    )"
   ]
  },
  {
   "cell_type": "markdown",
   "metadata": {},
   "source": [
    "### 查看词表"
   ]
  },
  {
   "cell_type": "code",
   "execution_count": 50,
   "metadata": {
    "ExecuteTime": {
     "end_time": "2020-03-10T06:31:36.495033Z",
     "start_time": "2020-03-10T06:31:31.928935Z"
    }
   },
   "outputs": [
    {
     "name": "stdout",
     "output_type": "stream",
     "text": [
      "建议运动 top10 word:[('做什么', 346), ('运动', 345), ('恢复', 151), ('有助于', 101), ('康复运动', 101), ('康复', 98), ('治疗', 65), ('适合', 55), ('康复锻炼', 55), ('帮助', 53)]\n",
      "治疗方案 top10 word:[('治疗', 167), ('方法', 48), ('怎么办', 23), ('怎样', 20), ('如何', 19), ('症状', 19), ('是什么', 17), ('现在', 14), ('检查', 12), ('这种', 12)]\n",
      "药物 top10 word:[('药', 73), ('吃什么', 52), ('治疗', 52), ('吃', 28), ('什么药好', 17), ('最好', 14), ('药物', 14), ('治', 12), ('症状', 11), ('检查', 10)]\n",
      "检查项目 top10 word:[('检查', 80), ('需要', 52), ('做什么', 52), ('确定', 25), ('确诊', 25), ('项目', 8), ('缺乏', 5), ('怎样', 5), ('症状', 5), ('维生素', 3)]\n",
      "无 top10 word:[('严重', 12), ('治疗', 11), ('中医', 9), ('效果', 8), ('程度', 8), ('手术', 5), ('多久', 5), ('恢复', 4), ('检查', 4), ('不治会', 3)]\n",
      "症状 top10 word:[('症状', 72), ('是什么', 12), ('表现', 9), ('临床', 8), ('吃什么', 8), ('早期', 6), ('治疗', 6), ('检查', 6), ('什么是', 5), ('引起', 5)]\n",
      "疾病 top10 word:[('症状', 11), ('是不是', 11), ('治疗', 5), ('表现', 4), ('吃饭', 4), ('还是', 4), ('医生', 4), ('说', 4), ('是否', 4), ('老是', 4)]\n",
      "建议食物 top10 word:[('吃什么', 50), ('饮食', 28), ('治疗', 19), ('食物', 18), ('什么是', 14), ('吃', 13), ('患者', 12), ('食疗', 11), ('怎样', 11), ('药', 10)]\n",
      "治疗价格 top10 word:[('多少钱', 30), ('治疗', 14), ('手术', 9), ('治', 6), ('检查', 5), ('费用', 4), ('多少', 2), ('食管癌', 2), ('原因', 2), ('怎样', 2)]\n",
      "病因 top10 word:[('原因', 25), ('治疗', 21), ('引起', 18), ('是什么', 18), ('病因', 11), ('方法', 9), ('症状', 8), ('怎么回事', 7), ('眩晕', 4), ('睡眠', 4)]\n",
      "简介 top10 word:[('什么是', 27), ('治疗', 20), ('吃什么', 18), ('危害', 7), ('药', 7), ('食物', 7), ('是什么', 6), ('如何', 6), ('严重', 5), ('出现', 5)]\n",
      "诊断 top10 word:[('检查', 8), ('判断', 7), ('诊断', 7), ('是不是', 6), ('症状', 5), ('需要', 4), ('确诊', 3), ('怎样', 3), ('标准', 2), ('如何', 2)]\n",
      "预防措施 top10 word:[('预防', 18), ('治疗', 5), ('如何', 4), ('怎样', 4), ('怎么样', 3), ('症状', 3), ('检查', 3), ('特征', 2), ('食管癌', 2), ('引起', 2)]\n",
      "科室 top10 word:[('检查', 5), ('治疗', 4), ('科室', 3), ('做什么', 2), ('情况', 2), ('怎么回事', 2), ('预约', 1), ('后遗症', 1), ('妈妈', 1), ('经', 1)]\n",
      "禁忌食物 top10 word:[('饮食', 35), ('治疗', 21), ('吃什么', 20), ('吃', 17), ('患者', 12), ('食物', 10), ('怎样', 10), ('如何', 8), ('需要', 8), ('不能', 6)]\n",
      "医疗机构 top10 word:[('医院', 3), ('大夫', 3), ('哪家', 1), ('看好', 1), ('治', 1), ('城市', 1), ('治疗', 1), ('最好', 1), ('根治', 1)]\n",
      "康复疗法 top10 word:[('康复', 2), ('需要', 1), ('计划', 1), ('怎样', 1), ('引起', 1), ('怎样才能', 1)]\n",
      "用药指南 top10 word:[('治疗', 1), ('硝酸甘油', 1), ('美托', 1), ('洛尔', 1), ('不能', 1)]\n",
      "食物 top10 word:[('喝', 2), ('豆浆', 2), ('吃', 1), ('那些', 1), ('食物', 1), ('最好', 1), ('治疗', 1), ('办法', 1)]\n",
      "禁忌运动 top10 word:[('做什么', 157), ('运动', 149), ('恢复', 62), ('康复运动', 53), ('治疗', 41), ('有助于', 38), ('康复', 38), ('康复的快', 28), ('适合', 26), ('康复锻炼', 26)]\n"
     ]
    }
   ],
   "source": [
    "for intent in list(intent_index.keys()):\n",
    "    # 得到所有intent的querys\n",
    "    text = text_from_feature(str(intent), single_data, multi_data)\n",
    "    word_frequency(text, str(intent), 10)"
   ]
  },
  {
   "cell_type": "markdown",
   "metadata": {},
   "source": [
    "## TF-IDF"
   ]
  },
  {
   "cell_type": "markdown",
   "metadata": {},
   "source": [
    "### 代码实现"
   ]
  },
  {
   "cell_type": "code",
   "execution_count": 9,
   "metadata": {
    "ExecuteTime": {
     "end_time": "2020-03-10T05:52:21.479287Z",
     "start_time": "2020-03-10T05:52:21.473303Z"
    }
   },
   "outputs": [],
   "source": [
    "# idf值统计方法\n",
    "\n",
    "def train_idf(doc_list):\n",
    "    idf_dic = {}\n",
    "    # 总文档数\n",
    "    tt_count = len(doc_list)\n",
    "\n",
    "    # 每个词出现的文档数\n",
    "    for doc in doc_list:\n",
    "        for word in set(doc):\n",
    "            idf_dic[word] = idf_dic.get(word, 0.0) + 1.0\n",
    "\n",
    "    # 按公式转换为idf值，分母加1进行平滑处理\n",
    "    for k, v in idf_dic.items():\n",
    "        idf_dic[k] = math.log(tt_count / (1.0 + v))\n",
    "\n",
    "    # 对于没有在字典中的词，默认其仅在一个文档出现，得到默认idf值\n",
    "    default_idf = math.log(tt_count / (1.0))\n",
    "    return idf_dic, default_idf"
   ]
  },
  {
   "cell_type": "code",
   "execution_count": 10,
   "metadata": {
    "ExecuteTime": {
     "end_time": "2020-03-10T05:52:22.294573Z",
     "start_time": "2020-03-10T05:52:22.287570Z"
    }
   },
   "outputs": [],
   "source": [
    "#  排序函数，用于topK关键词的按值排序\n",
    "def cmp(e1, e2):\n",
    "    import numpy as np\n",
    "    res = np.sign(e1[1] - e2[1])\n",
    "    if res != 0:\n",
    "        return res\n",
    "    else:\n",
    "        a = e1[0] + e2[0]\n",
    "        b = e2[0] + e1[0]\n",
    "        if a > b:\n",
    "            return 1\n",
    "        elif a == b:\n",
    "            return 0\n",
    "        else:\n",
    "            return -1"
   ]
  },
  {
   "cell_type": "code",
   "execution_count": 11,
   "metadata": {
    "ExecuteTime": {
     "end_time": "2020-03-10T05:52:23.522062Z",
     "start_time": "2020-03-10T05:52:23.508052Z"
    }
   },
   "outputs": [],
   "source": [
    "# TF-IDF类\n",
    "class TfIdf(object):\n",
    "    # 四个参数分别是：训练好的idf字典，默认idf值，处理后的待提取文本，关键词数量\n",
    "    def __init__(self, idf_dic, default_idf, word_list, keyword_num):\n",
    "        self.word_list = word_list\n",
    "        self.idf_dic, self.default_idf = idf_dic, default_idf\n",
    "        self.tf_dic = self.get_tf_dic()\n",
    "        self.keyword_num = keyword_num\n",
    "\n",
    "    # 统计tf值\n",
    "    def get_tf_dic(self):\n",
    "        tf_dic = {}\n",
    "        for word in self.word_list:\n",
    "            tf_dic[word] = tf_dic.get(word, 0.0) + 1.0\n",
    "\n",
    "        tt_count = len(self.word_list)\n",
    "        for k, v in tf_dic.items():\n",
    "            tf_dic[k] = float(v) / tt_count\n",
    "\n",
    "        return tf_dic\n",
    "\n",
    "    # 按公式计算tf-idf\n",
    "    def get_tfidf(self):\n",
    "        tfidf_dic = {}\n",
    "        for word in self.word_list:\n",
    "            idf = self.idf_dic.get(word, self.default_idf)\n",
    "            tf = self.tf_dic.get(word, 0)\n",
    "\n",
    "            tfidf = tf * idf\n",
    "            tfidf_dic[word] = tfidf   \n",
    "        return tfidf_dic\n",
    "    \n",
    "    # 返回关键词\n",
    "    def get_frequecy(self):\n",
    "        tfidf_dic = self.get_tf_dic()\n",
    "        tfidf_dic.items()\n",
    "        # 根据tf-idf排序，去排名前keyword_num的词作为关键词\n",
    "        for k, v in sorted(tfidf_dic.items(), key=functools.cmp_to_key(cmp), reverse=True)[:self.keyword_num]:\n",
    "            print(k + \"/ \", end='')\n",
    "        print()    "
   ]
  },
  {
   "cell_type": "code",
   "execution_count": 12,
   "metadata": {
    "ExecuteTime": {
     "end_time": "2020-03-10T05:52:30.003292Z",
     "start_time": "2020-03-10T05:52:24.818329Z"
    }
   },
   "outputs": [
    {
     "name": "stderr",
     "output_type": "stream",
     "text": [
      "Building prefix dict from the default dictionary ...\n",
      "Loading model from cache C:\\Users\\ADMINI~1\\AppData\\Local\\Temp\\jieba.cache\n",
      "Loading model cost 0.926 seconds.\n",
      "Prefix dict has been built successfully.\n"
     ]
    }
   ],
   "source": [
    "# 文档集合准备\n",
    "# 一个text是一篇文档\n",
    "# 共20种文档，组成文档集\n",
    "docs = []\n",
    "for intent in list(intent_index.keys()):\n",
    "    # 得到所有intent的querys\n",
    "    text = text_from_feature(str(intent), single_data, multi_data)\n",
    "    \n",
    "    # 将元组(意图, text分词结果)存入docs文档集\n",
    "    docs.append(\n",
    "        (intent, split_result(text))\n",
    "    )\n",
    "\n",
    "# 只包含文档的列表\n",
    "text_list = [doc[1] for doc in docs]"
   ]
  },
  {
   "cell_type": "code",
   "execution_count": 13,
   "metadata": {
    "ExecuteTime": {
     "end_time": "2020-03-10T05:52:32.447392Z",
     "start_time": "2020-03-10T05:52:32.442390Z"
    }
   },
   "outputs": [],
   "source": [
    "# 在文档集中根据意图返回文档\n",
    "def get_doc_by_intent(intent, docs):\n",
    "    for doc in docs:\n",
    "        if str(doc[0]) == intent:\n",
    "            return doc[1]"
   ]
  },
  {
   "cell_type": "code",
   "execution_count": 14,
   "metadata": {
    "ExecuteTime": {
     "end_time": "2020-03-10T05:52:33.318346Z",
     "start_time": "2020-03-10T05:52:33.299333Z"
    }
   },
   "outputs": [
    {
     "data": {
      "text/plain": [
       "[('肺', 1.0498221244986776),\n",
       " ('轻度', 1.2039728043259361),\n",
       " ('些', 1.0498221244986776),\n",
       " ('食物', 0.6931471805599453),\n",
       " ('半小时', 1.0498221244986776)]"
      ]
     },
     "execution_count": 14,
     "metadata": {},
     "output_type": "execute_result"
    }
   ],
   "source": [
    "# 获得所有单词的idf值\n",
    "idf_dic , default_idf = train_idf(text_list)\n",
    "list(idf_dic.items())[:5]"
   ]
  },
  {
   "cell_type": "code",
   "execution_count": 15,
   "metadata": {
    "ExecuteTime": {
     "end_time": "2020-03-10T05:52:39.013959Z",
     "start_time": "2020-03-10T05:52:39.009957Z"
    }
   },
   "outputs": [],
   "source": [
    "# 根据intent获取tf_idf字典\n",
    "def tfidf_dic_by_intent(intent,docs):\n",
    "    doc = get_doc_by_intent(intent,docs)\n",
    "    tfidf = TfIdf(idf_dic, default_idf, doc, 10)\n",
    "    return tfidf.get_tfidf()"
   ]
  },
  {
   "cell_type": "markdown",
   "metadata": {},
   "source": [
    "### 查看词表"
   ]
  },
  {
   "cell_type": "code",
   "execution_count": 51,
   "metadata": {
    "ExecuteTime": {
     "end_time": "2020-03-10T06:31:49.366731Z",
     "start_time": "2020-03-10T06:31:49.286677Z"
    }
   },
   "outputs": [
    {
     "name": "stdout",
     "output_type": "stream",
     "text": [
      "*********建议运动*********\n",
      "做什么/ 运动/ 恢复/ 有助于/ 康复运动/ 康复/ 治疗/ 适合/ 康复锻炼/ 来/ \n",
      "\n",
      "*********治疗方案*********\n",
      "治疗/ 方法/ 怎么办/ 怎样/ 症状/ 如何/ 是什么/ 现在/ 这种/ 检查/ \n",
      "\n",
      "*********药物*********\n",
      "药/ 治疗/ 吃什么/ 吃/ 什么药好/ 药物/ 最好/ 治/ 症状/ 检查/ \n",
      "\n",
      "*********检查项目*********\n",
      "检查/ 需要/ 做什么/ 确诊/ 确定/ 项目/ 缺乏/ 症状/ 怎样/ 维生素/ \n",
      "\n",
      "*********无*********\n",
      "严重/ 治疗/ 中医/ 程度/ 效果/ 手术/ 多久/ 检查/ 恢复/ 怎么样/ \n",
      "\n",
      "*********症状*********\n",
      "症状/ 是什么/ 表现/ 吃什么/ 临床/ 治疗/ 检查/ 早期/ 引起/ 什么是/ \n",
      "\n",
      "*********疾病*********\n",
      "症状/ 是不是/ 治疗/ 还是/ 说/ 表现/ 老是/ 疼/ 是否/ 时/ \n",
      "\n",
      "*********建议食物*********\n",
      "吃什么/ 饮食/ 治疗/ 食物/ 什么是/ 吃/ 患者/ 食疗/ 怎样/ 需要/ \n",
      "\n",
      "*********治疗价格*********\n",
      "多少/ 钱/ 治疗/ 手术/ 钱治/ 检查/ 费用/ 食管癌/ 怎样/ 原因/ \n",
      "\n",
      "*********病因*********\n",
      "原因/ 治疗/ 是什么/ 引起/ 病因/ 方法/ 症状/ 怎么回事/ 颤抖/ 造成/ \n",
      "\n",
      "*********简介*********\n",
      "什么是/ 治疗/ 吃什么/ 食物/ 药/ 危害/ 是什么/ 如何/ 症状/ 检查/ \n",
      "\n",
      "*********诊断*********\n",
      "检查/ 诊断/ 判断/ 是不是/ 症状/ 需要/ 确诊/ 怎样/ 多少/ 确定/ \n",
      "\n",
      "*********预防措施*********\n",
      "预防/ 治疗/ 怎样/ 如何/ 症状/ 检查/ 怎么样/ 食管癌/ 防治/ 生病/ \n",
      "\n",
      "*********科室*********\n",
      "检查/ 治疗/ 科室/ 情况/ 怎么回事/ 做什么/ 颤抖/ 预约/ 那科/ 这种/ \n",
      "\n",
      "*********禁忌食物*********\n",
      "饮食/ 治疗/ 吃什么/ 吃/ 患者/ 食物/ 怎样/ 需要/ 如何/ 药/ \n",
      "\n",
      "*********医疗机构*********\n",
      "大夫/ 医院/ 看好/ 治疗/ 治/ 根治/ 最好/ 城市/ 哪家/ \n",
      "\n",
      "*********康复疗法*********\n",
      "康复/ 需要/ 计划/ 怎样才能/ 怎样/ 引起/ \n",
      "\n",
      "*********用药指南*********\n",
      "美托/ 硝酸甘油/ 洛尔/ 治疗/ 不能/ \n",
      "\n",
      "*********食物*********\n",
      "豆浆/ 喝/ 食物/ 那些/ 治疗/ 最好/ 吃/ 办法/ \n",
      "\n",
      "*********禁忌运动*********\n",
      "做什么/ 运动/ 恢复/ 康复运动/ 治疗/ 有助于/ 康复/ 康复的快/ 适合/ 康复锻炼/ \n",
      "\n"
     ]
    }
   ],
   "source": [
    "for intent_text in docs:\n",
    "    tfidf = TfIdf(idf_dic, default_idf, intent_text[1], 10)\n",
    "    print('*********{}*********'.format(intent_text[0]))\n",
    "    tfidf.get_frequecy()\n",
    "    print()"
   ]
  },
  {
   "cell_type": "markdown",
   "metadata": {},
   "source": [
    "## 词表筛选"
   ]
  },
  {
   "cell_type": "code",
   "execution_count": null,
   "metadata": {},
   "outputs": [],
   "source": [
    "# 建议运动\n",
    "sport_key = ['康复运动', '做什么', '有助于', '运动', '康复锻炼']\n",
    "\n",
    "# 治疗方案\n",
    "plan_key = ['治疗', '方法', '怎么办', '这种']\n",
    "\n",
    "# 药物\n",
    "med_key = ['药', '什么药好', '治疗', '吃什么']\n",
    "\n",
    "# 检查项目\n",
    "check_key = ['检查'. '做什么', '项目', '确诊']\n",
    "\n",
    "# 症状\n",
    "sys_key = ['症状', '是什么', '早期', '表现', '临床']\n",
    "\n",
    "# 疾病\n",
    "dis_key = ['症状', '是否', '表现', '是不是']\n",
    "\n",
    "# 建议食物\n",
    "food_key = ['食物', '吃什么', '饮食', '食疗']\n",
    "\n",
    "# 治疗价格\n",
    "pri_key = ['费用', '多少钱', '手术', '多少']\n",
    "\n",
    "# 病因\n",
    "rea_key = ['引起', '原因', '病因', '怎么回事', '造成']\n",
    "\n",
    "# 简介\n",
    "intro_key = ['什么是', '是什么', '如何', '危害']\n",
    "\n",
    "# 诊断\n",
    "if_key = ['诊断', '是不是', '判断', '确定', '确诊']\n",
    "\n",
    "# 预防措施\n",
    "act_key = ['怎样', '预防', '如何', '防治']\n",
    "\n",
    "# 科室\n",
    "dep_key = ['科室', '预约', '那科', '检查']\n",
    "\n",
    "# 康复疗法 无法进行手动筛选\n",
    "hea_key = ['康复', '计划', '怎样才能', '需要']\n",
    "\n",
    "# 用药指南\n",
    "guide_key = ['美托', '硝酸甘油', '洛尔', '治疗', '吃什么']\n",
    "\n",
    "# 食物\n",
    "foo_key = ['豆浆', '食物', '喝', '吃', '最好']\n",
    "\n",
    "# 禁忌运动手动进行筛选"
   ]
  },
  {
   "cell_type": "code",
   "execution_count": 16,
   "metadata": {
    "ExecuteTime": {
     "end_time": "2020-03-10T05:52:59.289772Z",
     "start_time": "2020-03-10T05:52:59.282769Z"
    }
   },
   "outputs": [],
   "source": [
    "def norm_min_max(weight_i, weight_list):\n",
    "    weights = np.array(weight_list)\n",
    "    mi = weights.min()\n",
    "    ma = weights.max()\n",
    "    weights_norm = []\n",
    "    return (weight_i - mi)/(ma-mi)\n",
    "\n",
    "def softmax(weight_i, weight_list):\n",
    "    sum_exp = 0\n",
    "    for i in weight_list:\n",
    "        sum_exp += math.exp(i)\n",
    "    return math.exp(weight_i)/sum_exp"
   ]
  },
  {
   "cell_type": "code",
   "execution_count": 17,
   "metadata": {
    "ExecuteTime": {
     "end_time": "2020-03-10T05:53:03.460783Z",
     "start_time": "2020-03-10T05:53:03.455781Z"
    }
   },
   "outputs": [],
   "source": [
    "def tfidf2softmax(tfidf_dic, keywords):\n",
    "    # 根据tf_idf值取得softmax值\n",
    "    # keywords是定义好的关键词list\n",
    "    # 字典(keywords:tfidf)\n",
    "    word_weights = {}\n",
    "    for word in keywords:\n",
    "        word_weights[word] = tfidf_dic.get(word)\n",
    "    \n",
    "    weights = [i for i in word_weights.values()]\n",
    "    \n",
    "    # {keywords: tfidf} -> {keywords: softmax(tfidf)}\n",
    "    for key in list(word_weights.keys()):\n",
    "        value = word_weights[key]\n",
    "        word_weights[key] = softmax(value, weights)\n",
    "    return word_weights"
   ]
  },
  {
   "cell_type": "code",
   "execution_count": 18,
   "metadata": {
    "ExecuteTime": {
     "end_time": "2020-03-10T05:53:06.686790Z",
     "start_time": "2020-03-10T05:53:06.680786Z"
    }
   },
   "outputs": [],
   "source": [
    "def count_querys(m, intent, word_weights, data):\n",
    "    # 记录选中的数据条数\n",
    "    # m为阈值\n",
    "    counts = 0\n",
    "    for index, line in data.iterrows():\n",
    "        # 分词结果已经存在文件中的split列\n",
    "        word_list = line['split'].split(',')\n",
    "        num = 0\n",
    "        for i in word_weights.keys():\n",
    "            if i in word_list:\n",
    "                num += word_weights.get(i)\n",
    "        if num > m:\n",
    "            counts = counts + 1\n",
    "    return counts"
   ]
  },
  {
   "cell_type": "code",
   "execution_count": null,
   "metadata": {
    "ExecuteTime": {
     "end_time": "2020-03-09T08:20:03.718115Z",
     "start_time": "2020-03-09T08:20:03.709109Z"
    }
   },
   "outputs": [],
   "source": [
    "def select_questions(m, intent, word_weights, data):\n",
    "    # data为分词后的数据\n",
    "    # m为阈值\n",
    "    counts = 0\n",
    "    querys = []\n",
    "    ids = []\n",
    "    for index, line in data.iterrows():\n",
    "        word_list = line['split'].split(',')\n",
    "        num = 0\n",
    "        for i in word_weights.keys():\n",
    "            if i in word_list:\n",
    "                num += word_weights.get(i)\n",
    "        if num > m:\n",
    "            counts = counts + 1\n",
    "#             print(line['content'])\n",
    "            ids.append(line['question_id'])\n",
    "            querys.append(\n",
    "                clean_query2(line['content'])\n",
    "            )\n",
    "    dataset = pd.DataFrame(\n",
    "        data = {\n",
    "            'question_id':ids,\n",
    "            'content':querys\n",
    "        }\n",
    "    )\n",
    "    dataset.to_csv('{}_{}.csv'.format(intent, counts), index=False)\n",
    "    return counts"
   ]
  },
  {
   "cell_type": "markdown",
   "metadata": {},
   "source": [
    "### 阈值选取"
   ]
  },
  {
   "cell_type": "code",
   "execution_count": 19,
   "metadata": {
    "ExecuteTime": {
     "end_time": "2020-03-10T05:53:10.529011Z",
     "start_time": "2020-03-10T05:53:10.181515Z"
    }
   },
   "outputs": [],
   "source": [
    "# 导入待筛选的数据\n",
    "question_path = 'D:/PycharmProjects/NLP_Action/after_split.csv'\n",
    "data = pd.read_csv(question_path)\n",
    "data = data.dropna(axis=0)"
   ]
  },
  {
   "cell_type": "code",
   "execution_count": 21,
   "metadata": {
    "ExecuteTime": {
     "end_time": "2020-03-10T05:55:29.542244Z",
     "start_time": "2020-03-10T05:55:29.261945Z"
    }
   },
   "outputs": [],
   "source": [
    "import matplotlib.pyplot as plt\n",
    "import matplotlib"
   ]
  },
  {
   "cell_type": "code",
   "execution_count": 27,
   "metadata": {
    "ExecuteTime": {
     "end_time": "2020-03-10T06:07:34.574778Z",
     "start_time": "2020-03-10T06:07:34.568775Z"
    }
   },
   "outputs": [],
   "source": [
    "def show_threshold(intent, x, y, maxy):\n",
    "    matplotlib.rc('font', family='SimHei')\n",
    "    plt.rcParams['axes.unicode_minus'] = False\n",
    "    plt.ylim(0, maxy)\n",
    "    plt.plot(x, y)\n",
    "    plt.title(intent, loc='center')\n",
    "    plt.xlabel('threshold')\n",
    "    plt.ylabel('querys')\n",
    "    plt.tight_layout()\n",
    "    plt.margins(0, 0)\n",
    "    plt.savefig('{}.png'.format(intent), dpi=300, pad_inches=0, bbox_inches='tight')\n",
    "    \n",
    "    plt.show()"
   ]
  },
  {
   "cell_type": "code",
   "execution_count": 23,
   "metadata": {
    "ExecuteTime": {
     "end_time": "2020-03-10T06:03:38.885345Z",
     "start_time": "2020-03-10T06:01:48.349156Z"
    }
   },
   "outputs": [],
   "source": [
    "sport_intent = '建议运动'\n",
    "sport_key = ['康复运动', '做什么', '有助于', '运动', '康复锻炼']\n",
    "sport_dic = tfidf_dic_by_intent(sport_intent, docs)\n",
    "sport_weights = tfidf2softmax(sport_dic, sport_key)\n",
    "sport_x = np.arange(0.15, 0.26, 0.01)\n",
    "sport_y = []\n",
    "for hold in sport_x:\n",
    "    sport_y.append(\n",
    "        count_querys(hold, sport_intent, sport_weights, data)\n",
    "    )"
   ]
  },
  {
   "cell_type": "code",
   "execution_count": 28,
   "metadata": {
    "ExecuteTime": {
     "end_time": "2020-03-10T06:07:43.337833Z",
     "start_time": "2020-03-10T06:07:42.693772Z"
    }
   },
   "outputs": [
    {
     "data": {
      "image/png": "[encoded data removed]",
      "text/plain": [
       "<Figure size 432x288 with 1 Axes>"
      ]
     },
     "metadata": {
      "needs_background": "light"
     },
     "output_type": "display_data"
    }
   ],
   "source": [
    "show_threshold(sport_intent, sport_x, sport_y, 1000)"
   ]
  },
  {
   "cell_type": "code",
   "execution_count": 30,
   "metadata": {
    "ExecuteTime": {
     "end_time": "2020-03-10T06:09:55.224425Z",
     "start_time": "2020-03-10T06:08:49.154008Z"
    }
   },
   "outputs": [],
   "source": [
    "plan_intent = '治疗方案'\n",
    "plan_key = ['治疗', '方法', '怎么办', '这种']\n",
    "plan_dic = tfidf_dic_by_intent(plan_intent, docs)\n",
    "plan_weights = tfidf2softmax(plan_dic, plan_key)\n",
    "plan_x = np.arange(0.2, 0.8, 0.1)\n",
    "plan_y = []\n",
    "for hold in plan_x:\n",
    "    plan_y.append(\n",
    "        count_querys(hold, plan_intent, plan_weights, data)\n",
    "    )"
   ]
  },
  {
   "cell_type": "code",
   "execution_count": 35,
   "metadata": {
    "ExecuteTime": {
     "end_time": "2020-03-10T06:11:27.266966Z",
     "start_time": "2020-03-10T06:11:26.645994Z"
    }
   },
   "outputs": [
    {
     "data": {
      "image/png": "[encoded data removed]",
      "text/plain": [
       "<Figure size 432x288 with 1 Axes>"
      ]
     },
     "metadata": {
      "needs_background": "light"
     },
     "output_type": "display_data"
    }
   ],
   "source": [
    "show_threshold(sport_intent, plan_x, plan_y, 2500)"
   ]
  },
  {
   "cell_type": "code",
   "execution_count": 36,
   "metadata": {
    "ExecuteTime": {
     "end_time": "2020-03-10T06:14:14.436584Z",
     "start_time": "2020-03-10T06:13:46.581093Z"
    }
   },
   "outputs": [],
   "source": [
    "med_intent = '药物'\n",
    "med_key = ['药', '什么药好', '治疗', '吃什么']\n",
    "med_dic = tfidf_dic_by_intent(med_intent, docs)\n",
    "med_weights = tfidf2softmax(med_dic, med_key)\n",
    "med_x = np.arange(0.55, 0.7, 0.05)\n",
    "med_y = []\n",
    "for hold in med_x:\n",
    "    med_y.append(\n",
    "        count_querys(hold, med_intent, med_weights, data)\n",
    "    )"
   ]
  },
  {
   "cell_type": "code",
   "execution_count": 38,
   "metadata": {
    "ExecuteTime": {
     "end_time": "2020-03-10T06:19:54.531252Z",
     "start_time": "2020-03-10T06:19:53.929612Z"
    }
   },
   "outputs": [
    {
     "data": {
      "image/png": "[encoded data removed]",
      "text/plain": [
       "<Figure size 432x288 with 1 Axes>"
      ]
     },
     "metadata": {
      "needs_background": "light"
     },
     "output_type": "display_data"
    }
   ],
   "source": [
    "show_threshold(med_intent, med_x, med_y, 1000)"
   ]
  },
  {
   "cell_type": "code",
   "execution_count": 41,
   "metadata": {
    "ExecuteTime": {
     "end_time": "2020-03-10T06:27:19.067207Z",
     "start_time": "2020-03-10T06:25:49.976868Z"
    }
   },
   "outputs": [],
   "source": [
    "food_intent = '建议食物'\n",
    "food_key = ['食物', '吃什么', '饮食', '食疗']\n",
    "food_dic = tfidf_dic_by_intent(food_intent, docs)\n",
    "food_weights = tfidf2softmax(food_dic, food_key)\n",
    "food_x = np.arange(0.2, 0.3, 0.01)\n",
    "food_y = []\n",
    "for hold in food_x:\n",
    "    food_y.append(\n",
    "        count_querys(hold, food_intent, food_weights, data)\n",
    "    )"
   ]
  },
  {
   "cell_type": "code",
   "execution_count": 44,
   "metadata": {
    "ExecuteTime": {
     "end_time": "2020-03-10T06:28:05.083166Z",
     "start_time": "2020-03-10T06:28:04.464843Z"
    }
   },
   "outputs": [
    {
     "data": {
      "image/png": "[encoded data removed]",
      "text/plain": [
       "<Figure size 432x288 with 1 Axes>"
      ]
     },
     "metadata": {
      "needs_background": "light"
     },
     "output_type": "display_data"
    }
   ],
   "source": [
    "show_threshold(food_intent, food_x, food_y, 3000)"
   ]
  },
  {
   "cell_type": "markdown",
   "metadata": {},
   "source": [
    "### 进行筛选"
   ]
  },
  {
   "cell_type": "code",
   "execution_count": null,
   "metadata": {
    "ExecuteTime": {
     "end_time": "2020-03-09T08:20:35.431694Z",
     "start_time": "2020-03-09T08:20:26.166377Z"
    }
   },
   "outputs": [],
   "source": [
    "my_intent = '建议运动'\n",
    "sport_key = ['康复运动', '做什么', '有助于', '运动', '康复锻炼']\n",
    "tfidf_dic = tfidf_dic_by_intent(my_intent, docs)\n",
    "word_weights = tfidf2softmax(tfidf_dic, sport_key)\n",
    "num = select_questions(0.21, my_intent, word_weights, data)\n",
    "print('共计{}条'.format(num))"
   ]
  },
  {
   "cell_type": "code",
   "execution_count": null,
   "metadata": {
    "ExecuteTime": {
     "end_time": "2020-03-09T08:20:49.901281Z",
     "start_time": "2020-03-09T08:20:40.656062Z"
    }
   },
   "outputs": [],
   "source": [
    "# 治疗方案\n",
    "plan_key = ['治疗', '方法', '怎么办', '这种']\n",
    "my_intent = '治疗方案'\n",
    "\n",
    "tfidf_dic = tfidf_dic_by_intent(my_intent, docs)\n",
    "word_weights = tfidf2softmax(tfidf_dic, plan_key)\n",
    "num = select_questions(0.5, my_intent, word_weights, data)\n",
    "print('共计{}条'.format(num))"
   ]
  },
  {
   "cell_type": "code",
   "execution_count": null,
   "metadata": {
    "ExecuteTime": {
     "end_time": "2020-03-09T08:21:01.503446Z",
     "start_time": "2020-03-09T08:20:52.267231Z"
    }
   },
   "outputs": [],
   "source": [
    "# 药物\n",
    "med_key = ['药', '什么药好', '治疗', '吃什么']\n",
    "\n",
    "my_intent = '药物'\n",
    "tfidf_dic = tfidf_dic_by_intent(my_intent, docs)\n",
    "word_weights = tfidf2softmax(tfidf_dic, med_key)\n",
    "num = select_questions(0.6, my_intent, word_weights, data)\n",
    "print('共计{}条'.format(num))"
   ]
  },
  {
   "cell_type": "code",
   "execution_count": null,
   "metadata": {
    "ExecuteTime": {
     "end_time": "2020-03-09T08:21:17.767701Z",
     "start_time": "2020-03-09T08:21:08.623077Z"
    }
   },
   "outputs": [],
   "source": [
    "# 检查项目\n",
    "check_key = ['检查', '做什么', '项目', '确诊']\n",
    "\n",
    "my_intent = '检查项目'\n",
    "tfidf_dic = tfidf_dic_by_intent(my_intent, docs)\n",
    "word_weights = tfidf2softmax(tfidf_dic, check_key)\n",
    "num = select_questions(0.45, my_intent, word_weights, data)\n",
    "print('共计{}条'.format(num))"
   ]
  },
  {
   "cell_type": "code",
   "execution_count": null,
   "metadata": {
    "ExecuteTime": {
     "end_time": "2020-03-09T08:21:31.002715Z",
     "start_time": "2020-03-09T08:21:22.090161Z"
    }
   },
   "outputs": [],
   "source": [
    "# 症状\n",
    "sys_key = ['症状', '是什么', '早期', '表现', '临床']\n",
    "\n",
    "my_intent = '症状'\n",
    "tfidf_dic = tfidf_dic_by_intent(my_intent, docs)\n",
    "word_weights = tfidf2softmax(tfidf_dic, sys_key)\n",
    "num = select_questions(0.403, my_intent, word_weights, data)\n",
    "print('共计{}条'.format(num))"
   ]
  },
  {
   "cell_type": "code",
   "execution_count": null,
   "metadata": {
    "ExecuteTime": {
     "end_time": "2020-03-09T08:21:42.731591Z",
     "start_time": "2020-03-09T08:21:33.455219Z"
    }
   },
   "outputs": [],
   "source": [
    "# 疾病\n",
    "dis_key = ['症状', '是否', '表现', '是不是']\n",
    "\n",
    "my_intent = '疾病'\n",
    "tfidf_dic = tfidf_dic_by_intent(my_intent, docs)\n",
    "word_weights = tfidf2softmax(tfidf_dic, dis_key)\n",
    "num = select_questions(0.49975, my_intent, word_weights, data)\n",
    "print('共计{}条'.format(num))"
   ]
  },
  {
   "cell_type": "code",
   "execution_count": null,
   "metadata": {
    "ExecuteTime": {
     "end_time": "2020-03-09T08:23:03.111003Z",
     "start_time": "2020-03-09T08:22:53.969061Z"
    }
   },
   "outputs": [],
   "source": [
    "# 建议食物\n",
    "food_key = ['食物', '吃什么', '饮食', '食疗']\n",
    "# 0.25断崖 - 0.26\n",
    "my_intent = '建议食物'\n",
    "tfidf_dic = tfidf_dic_by_intent(my_intent, docs)\n",
    "word_weights = tfidf2softmax(tfidf_dic, food_key)\n",
    "num = select_questions(0.26, my_intent, word_weights, data)\n",
    "print('共计{}条'.format(num))"
   ]
  },
  {
   "cell_type": "code",
   "execution_count": null,
   "metadata": {
    "ExecuteTime": {
     "end_time": "2020-03-09T09:57:23.468015Z",
     "start_time": "2020-03-09T09:57:13.963273Z"
    }
   },
   "outputs": [],
   "source": [
    "# 治疗价格\n",
    "pri_key = ['费用', '多少钱', '手术', '多少']\n",
    "\n",
    "my_intent = '治疗价格'\n",
    "tfidf_dic = tfidf_dic_by_intent(my_intent, docs)\n",
    "word_weights = tfidf2softmax(tfidf_dic, pri_key)\n",
    "num = select_questions(0.26, my_intent, word_weights, data)\n",
    "print('共计{}条'.format(num))"
   ]
  },
  {
   "cell_type": "code",
   "execution_count": null,
   "metadata": {
    "ExecuteTime": {
     "end_time": "2020-03-09T09:57:46.428023Z",
     "start_time": "2020-03-09T09:57:36.585029Z"
    },
    "scrolled": false
   },
   "outputs": [],
   "source": [
    "# 病因\n",
    "rea_key = ['引起', '原因', '病因', '怎么回事', '造成']\n",
    "\n",
    "my_intent = '病因'\n",
    "tfidf_dic = tfidf_dic_by_intent(my_intent, docs)\n",
    "word_weights = tfidf2softmax(tfidf_dic, rea_key)\n",
    "num = select_questions(0.3985, my_intent, word_weights, data)\n",
    "print('共计{}条'.format(num))"
   ]
  },
  {
   "cell_type": "code",
   "execution_count": null,
   "metadata": {
    "ExecuteTime": {
     "end_time": "2020-03-09T10:12:14.584523Z",
     "start_time": "2020-03-09T10:12:05.409684Z"
    }
   },
   "outputs": [],
   "source": [
    "# 简介\n",
    "intro_key = ['什么是', '是什么', '如何', '危害']\n",
    "\n",
    "my_intent = '简介'\n",
    "tfidf_dic = tfidf_dic_by_intent(my_intent, docs)\n",
    "word_weights = tfidf2softmax(tfidf_dic, intro_key)\n",
    "num = select_questions(0.3985, my_intent, word_weights, data)\n",
    "print('共计{}条'.format(num))"
   ]
  },
  {
   "cell_type": "code",
   "execution_count": null,
   "metadata": {
    "ExecuteTime": {
     "end_time": "2020-03-09T10:35:13.067760Z",
     "start_time": "2020-03-09T10:35:04.012318Z"
    }
   },
   "outputs": [],
   "source": [
    "# 诊断\n",
    "if_key = ['诊断', '是不是', '判断', '确定', '确诊']\n",
    "\n",
    "my_intent = '诊断'\n",
    "tfidf_dic = tfidf_dic_by_intent(my_intent, docs)\n",
    "word_weights = tfidf2softmax(tfidf_dic, if_key)\n",
    "num = select_questions(0.25, my_intent, word_weights, data)\n",
    "print('共计{}条'.format(num))"
   ]
  },
  {
   "cell_type": "code",
   "execution_count": null,
   "metadata": {
    "ExecuteTime": {
     "end_time": "2020-03-09T10:35:25.033350Z",
     "start_time": "2020-03-09T10:35:16.013941Z"
    }
   },
   "outputs": [],
   "source": [
    "# 预防措施\n",
    "act_key = ['怎样', '预防', '如何', '防治']\n",
    "\n",
    "my_intent = '预防措施'\n",
    "tfidf_dic = tfidf_dic_by_intent(my_intent, docs)\n",
    "word_weights = tfidf2softmax(tfidf_dic, act_key)\n",
    "num = select_questions(0.25, my_intent, word_weights, data)\n",
    "print('共计{}条'.format(num))"
   ]
  },
  {
   "cell_type": "code",
   "execution_count": null,
   "metadata": {
    "ExecuteTime": {
     "end_time": "2020-03-09T10:35:40.395250Z",
     "start_time": "2020-03-09T10:35:31.223729Z"
    }
   },
   "outputs": [],
   "source": [
    "# 科室\n",
    "dep_key = ['科室', '预约', '那科', '检查']\n",
    "\n",
    "my_intent = '科室'\n",
    "tfidf_dic = tfidf_dic_by_intent(my_intent, docs)\n",
    "word_weights = tfidf2softmax(tfidf_dic, dep_key)\n",
    "num = select_questions(0.25, my_intent, word_weights, data)\n",
    "print('共计{}条'.format(num))"
   ]
  },
  {
   "cell_type": "code",
   "execution_count": null,
   "metadata": {
    "ExecuteTime": {
     "end_time": "2020-03-09T10:35:51.576846Z",
     "start_time": "2020-03-09T10:35:42.341280Z"
    }
   },
   "outputs": [],
   "source": [
    "# 康复疗法\n",
    "hea_key = ['康复', '计划', '怎样才能', '需要']\n",
    "\n",
    "my_intent = '康复疗法'\n",
    "tfidf_dic = tfidf_dic_by_intent(my_intent, docs)\n",
    "word_weights = tfidf2softmax(tfidf_dic, hea_key)\n",
    "num = select_questions(0.25, my_intent, word_weights, data)\n",
    "print('共计{}条'.format(num))"
   ]
  },
  {
   "cell_type": "code",
   "execution_count": null,
   "metadata": {
    "ExecuteTime": {
     "end_time": "2020-03-09T10:37:35.021216Z",
     "start_time": "2020-03-09T10:37:26.259001Z"
    }
   },
   "outputs": [],
   "source": [
    "# 用药指南\n",
    "guide_key = ['美托', '硝酸甘油', '洛尔', '治疗']\n",
    "\n",
    "my_intent = '用药指南'\n",
    "tfidf_dic = tfidf_dic_by_intent(my_intent, docs)\n",
    "word_weights = tfidf2softmax(tfidf_dic, guide_key)\n",
    "num = select_questions(0.179, my_intent, word_weights, data)\n",
    "print('共计{}条'.format(num))"
   ]
  },
  {
   "cell_type": "code",
   "execution_count": null,
   "metadata": {
    "ExecuteTime": {
     "end_time": "2020-03-09T10:37:11.722872Z",
     "start_time": "2020-03-09T10:37:02.589394Z"
    }
   },
   "outputs": [],
   "source": [
    "# 食物\n",
    "foo_key = ['豆浆', '食物', '喝', '吃', '最好']\n",
    "\n",
    "my_intent = '食物'\n",
    "tfidf_dic = tfidf_dic_by_intent(my_intent, docs)\n",
    "word_weights = tfidf2softmax(tfidf_dic, foo_key)\n",
    "num = select_questions(0.3, my_intent, word_weights, data)\n",
    "print('共计{}条'.format(num))"
   ]
  },
  {
   "cell_type": "markdown",
   "metadata": {},
   "source": [
    "## 保存分词"
   ]
  },
  {
   "cell_type": "code",
   "execution_count": null,
   "metadata": {
    "ExecuteTime": {
     "end_time": "2020-03-07T10:25:43.546288Z",
     "start_time": "2020-03-07T10:25:43.539283Z"
    }
   },
   "outputs": [],
   "source": [
    "def select_questions(m, word_weights, data):\n",
    "    # data为分词后的数据\n",
    "    # m为阈值\n",
    "    for index, line in data.iterrows():\n",
    "        word_list = line['split'].split(',')\n",
    "        num = 0\n",
    "        counts = 0\n",
    "        for i in word_weights.keys():\n",
    "            if i in word_list:\n",
    "                num += word_weights.get(i)\n",
    "        if num > m:\n",
    "            counts += 1\n",
    "            print(line['question_id'], line['content'])\n",
    "    return counts"
   ]
  },
  {
   "cell_type": "code",
   "execution_count": null,
   "metadata": {
    "ExecuteTime": {
     "end_time": "2020-03-08T16:58:47.560460Z",
     "start_time": "2020-03-08T16:58:47.326238Z"
    }
   },
   "outputs": [],
   "source": [
    "# 导入数据\n",
    "question_path = 'D:/PycharmProjects/NLP_Action/data/query6w.csv'\n",
    "data = pd.read_csv(question_path)"
   ]
  },
  {
   "cell_type": "code",
   "execution_count": null,
   "metadata": {
    "ExecuteTime": {
     "end_time": "2020-03-07T15:14:57.869453Z",
     "start_time": "2020-03-07T15:14:57.863450Z"
    }
   },
   "outputs": [],
   "source": [
    "# 对所有句子进行分词,存入文件\n",
    "def split_all_sentence(data):\n",
    "    split_sentences = []\n",
    "    querys = []\n",
    "    ids = []\n",
    "    for index, line in data.iterrows():\n",
    "        word_list = split_result(line['content'])\n",
    "        print(word_list)\n",
    "        split_sentences.append(','.join(word_list))    \n",
    "        querys.append(line['content'])\n",
    "        ids.append(line['question_id'])\n",
    "    sys = pd.DataFrame(\n",
    "        data={\n",
    "            'question_id':ids,\n",
    "            'content': querys,\n",
    "            'split':split_sentences\n",
    "        }\n",
    "    )\n",
    "    sys.to_csv('after_split.csv', index=False)"
   ]
  },
  {
   "cell_type": "code",
   "execution_count": null,
   "metadata": {
    "ExecuteTime": {
     "end_time": "2020-03-07T17:18:25.305242Z",
     "start_time": "2020-03-07T15:14:59.311947Z"
    }
   },
   "outputs": [],
   "source": [
    "split_all_sentence(data)"
   ]
  },
  {
   "cell_type": "markdown",
   "metadata": {},
   "source": [
    "## 手动筛选"
   ]
  },
  {
   "cell_type": "code",
   "execution_count": null,
   "metadata": {
    "ExecuteTime": {
     "end_time": "2020-03-07T11:11:50.909522Z",
     "start_time": "2020-03-07T11:11:50.904518Z"
    }
   },
   "outputs": [],
   "source": [
    "# 建议运动\n",
    "sport_key = ['康复运动', '做什么运动']\n",
    "\n",
    "# 药物\n",
    "med_key = ['用什么药']\n",
    "\n",
    "# 检查项目\n",
    "check_key = ['做什么检查']\n",
    "\n",
    "# 症状\n",
    "sys_key = ['是什么症状']\n",
    "\n",
    "# 疾病\n",
    "dis_key = ['是什么病']\n",
    "\n",
    "# 建议食物\n",
    "food_key = ['食疗', '吃什么好']\n",
    "\n",
    "# 治疗价格\n",
    "pri_key = ['费用', '多少钱']\n",
    "\n",
    "# 病因\n",
    "rea_key = ['怎么引起的', '什么原因']\n",
    "\n",
    "# 简介\n",
    "intro_key = ['是什么', '什么是', '危害']\n",
    "\n",
    "# 预防措施\n",
    "act_key = ['怎样预防', '如何防治']\n",
    "\n",
    "# 科室\n",
    "dep_key = ['挂什么科']\n",
    "\n",
    "# 用药指南\n",
    "guide_key = ['药怎么吃']\n",
    "\n",
    "# 治疗方案\n",
    "plan_key = ['怎么治疗', '怎样治疗']\n",
    "\n",
    "# 禁忌食物\n",
    "not_key = ['不宜吃', '不能吃']\n",
    "\n",
    "# 手术\n",
    "not_key = ['做手术吗', '做什么手术', '做手术']\n",
    "\n",
    "# 并发症\n",
    "not_key = ['并发症', '引发什么', '引发哪些', '会引发']"
   ]
  },
  {
   "cell_type": "code",
   "execution_count": 46,
   "metadata": {
    "ExecuteTime": {
     "end_time": "2020-03-10T06:29:02.274295Z",
     "start_time": "2020-03-10T06:29:02.266286Z"
    }
   },
   "outputs": [],
   "source": [
    "def select_querys(intent, key_list, data):\n",
    "    # intent 意图名称\n",
    "    # key_list关键词列表\n",
    "    # data 原始数据集\n",
    "    # 在data上筛出含有key_list中词的query,并存入文件\n",
    "    querys = []\n",
    "    ids = []\n",
    "    intents = []\n",
    "    for index, line in data.iterrows():\n",
    "        for key in key_list:\n",
    "            if key in line['content']:\n",
    "                querys.append(line['content'])\n",
    "                ids.append(line['question_id'])\n",
    "    sys = pd.DataFrame(\n",
    "        data={\n",
    "            'question_id':ids,\n",
    "            'content': querys,\n",
    "        }\n",
    "    )\n",
    "    sys.to_csv('./intent/{}.csv'.format(intent), index=False)"
   ]
  },
  {
   "cell_type": "code",
   "execution_count": null,
   "metadata": {
    "ExecuteTime": {
     "end_time": "2020-03-07T12:26:08.818533Z",
     "start_time": "2020-03-07T12:25:59.340228Z"
    }
   },
   "outputs": [],
   "source": [
    "# 建议运动\n",
    "sport_key = ['康复运动', '做什么运动']\n",
    "intent_name = '建议运动'\n",
    "select_querys(intent_name, sport_key, data)"
   ]
  },
  {
   "cell_type": "code",
   "execution_count": null,
   "metadata": {
    "ExecuteTime": {
     "end_time": "2020-03-07T12:26:18.196124Z",
     "start_time": "2020-03-07T12:26:09.729727Z"
    }
   },
   "outputs": [],
   "source": [
    "# 药物\n",
    "med_key = ['用什么药']\n",
    "intent_name = '药物'\n",
    "select_querys(intent_name, med_key, data)"
   ]
  },
  {
   "cell_type": "code",
   "execution_count": null,
   "metadata": {
    "ExecuteTime": {
     "end_time": "2020-03-07T12:26:27.679441Z",
     "start_time": "2020-03-07T12:26:19.068214Z"
    }
   },
   "outputs": [],
   "source": [
    "# 检查项目\n",
    "check_key = ['做什么检查']\n",
    "intent_name = '检查项目'\n",
    "select_querys(intent_name, check_key, data)"
   ]
  },
  {
   "cell_type": "code",
   "execution_count": null,
   "metadata": {
    "ExecuteTime": {
     "end_time": "2020-03-07T12:26:37.601416Z",
     "start_time": "2020-03-07T12:26:29.004819Z"
    }
   },
   "outputs": [],
   "source": [
    "# 症状\n",
    "sys_key = ['是什么症状']\n",
    "\n",
    "intent_name = '症状'\n",
    "select_querys(intent_name, sys_key, data)"
   ]
  },
  {
   "cell_type": "code",
   "execution_count": null,
   "metadata": {
    "ExecuteTime": {
     "end_time": "2020-03-07T12:26:49.249665Z",
     "start_time": "2020-03-07T12:26:40.401660Z"
    }
   },
   "outputs": [],
   "source": [
    "# 疾病\n",
    "dis_key = ['是什么病']\n",
    "intent_name = '疾病'\n",
    "select_querys(intent_name, dis_key, data)"
   ]
  },
  {
   "cell_type": "code",
   "execution_count": null,
   "metadata": {
    "ExecuteTime": {
     "end_time": "2020-03-07T12:27:28.781073Z",
     "start_time": "2020-03-07T12:27:18.811477Z"
    }
   },
   "outputs": [],
   "source": [
    "# 建议食物\n",
    "food_key = ['食疗', '吃什么好']\n",
    "intent_name = '建议食物'\n",
    "select_querys(intent_name, food_key, data)"
   ]
  },
  {
   "cell_type": "code",
   "execution_count": null,
   "metadata": {
    "ExecuteTime": {
     "end_time": "2020-03-07T12:27:46.926826Z",
     "start_time": "2020-03-07T12:27:37.453906Z"
    }
   },
   "outputs": [],
   "source": [
    "# 治疗价格\n",
    "pri_key = ['费用', '多少钱']\n",
    "\n",
    "intent_name = '治疗价格'\n",
    "select_querys(intent_name, pri_key, data)"
   ]
  },
  {
   "cell_type": "code",
   "execution_count": null,
   "metadata": {
    "ExecuteTime": {
     "end_time": "2020-03-07T12:27:57.598893Z",
     "start_time": "2020-03-07T12:27:48.001938Z"
    }
   },
   "outputs": [],
   "source": [
    "# 病因\n",
    "rea_key = ['怎么引起的', '什么原因']\n",
    "intent_name = '病因'\n",
    "select_querys(intent_name, rea_key, data)"
   ]
  },
  {
   "cell_type": "code",
   "execution_count": null,
   "metadata": {
    "ExecuteTime": {
     "end_time": "2020-03-07T15:00:34.014145Z",
     "start_time": "2020-03-07T15:00:24.991693Z"
    }
   },
   "outputs": [],
   "source": [
    "# 导入数据\n",
    "question_path = 'D:/PycharmProjects/NLP_Action/data/query6w.csv'\n",
    "data = pd.read_csv(question_path)\n",
    "drop_index = []\n",
    "for index, line in data.iterrows():\n",
    "    if '什么原因' in line['content']:\n",
    "        drop_index.append(index)\n",
    "data = data.drop(drop_index, axis=0)"
   ]
  },
  {
   "cell_type": "code",
   "execution_count": null,
   "metadata": {
    "ExecuteTime": {
     "end_time": "2020-03-07T15:00:51.793678Z",
     "start_time": "2020-03-07T15:00:41.523316Z"
    }
   },
   "outputs": [],
   "source": [
    "# 简介\n",
    "intro_key = ['是什么', '什么是', '危害']\n",
    "\n",
    "intent_name = '简介'\n",
    "select_querys(intent_name, intro_key, data)"
   ]
  },
  {
   "cell_type": "code",
   "execution_count": null,
   "metadata": {
    "ExecuteTime": {
     "end_time": "2020-03-07T12:28:17.529644Z",
     "start_time": "2020-03-07T12:28:08.110817Z"
    }
   },
   "outputs": [],
   "source": [
    "# 预防措施\n",
    "act_key = ['怎样预防', '如何防治']\n",
    "intent_name = '预防措施'\n",
    "select_querys(intent_name, act_key, data)"
   ]
  },
  {
   "cell_type": "code",
   "execution_count": null,
   "metadata": {
    "ExecuteTime": {
     "end_time": "2020-03-07T12:28:26.663032Z",
     "start_time": "2020-03-07T12:28:18.313543Z"
    }
   },
   "outputs": [],
   "source": [
    "# 科室\n",
    "dep_key = ['挂什么科']\n",
    "intent_name = '科室'\n",
    "select_querys(intent_name, dep_key, data)"
   ]
  },
  {
   "cell_type": "code",
   "execution_count": null,
   "metadata": {
    "ExecuteTime": {
     "end_time": "2020-03-07T12:28:37.240939Z",
     "start_time": "2020-03-07T12:28:28.919459Z"
    }
   },
   "outputs": [],
   "source": [
    "# 用药指南\n",
    "guide_key = ['药怎么吃']\n",
    "intent_name = '用药指南'\n",
    "select_querys(intent_name, guide_key, data)"
   ]
  },
  {
   "cell_type": "code",
   "execution_count": null,
   "metadata": {
    "ExecuteTime": {
     "end_time": "2020-03-07T12:29:18.412038Z",
     "start_time": "2020-03-07T12:29:09.654747Z"
    }
   },
   "outputs": [],
   "source": [
    "# 治疗方案\n",
    "plan_key = ['怎么治疗', '怎样治疗']\n",
    "intent_name = '治疗方案'\n",
    "select_querys(intent_name, plan_key, data)"
   ]
  },
  {
   "cell_type": "code",
   "execution_count": null,
   "metadata": {
    "ExecuteTime": {
     "end_time": "2020-03-08T17:04:36.291778Z",
     "start_time": "2020-03-08T17:04:26.366709Z"
    }
   },
   "outputs": [],
   "source": [
    "# 禁忌食物\n",
    "not_key = ['不宜吃', '不能吃']\n",
    "intent_name = '禁忌食物'\n",
    "select_querys(intent_name, not_key, data)"
   ]
  },
  {
   "cell_type": "code",
   "execution_count": 53,
   "metadata": {
    "ExecuteTime": {
     "end_time": "2020-03-10T06:39:15.030114Z",
     "start_time": "2020-03-10T06:39:03.389817Z"
    }
   },
   "outputs": [],
   "source": [
    "# 手术\n",
    "not_key = ['做手术吗', '做什么手术', '做手术']\n",
    "intent_name = '手术'\n",
    "select_querys(intent_name, not_key, data)"
   ]
  },
  {
   "cell_type": "code",
   "execution_count": 54,
   "metadata": {
    "ExecuteTime": {
     "end_time": "2020-03-10T06:43:56.295880Z",
     "start_time": "2020-03-10T06:43:42.695192Z"
    }
   },
   "outputs": [],
   "source": [
    "# 并发症\n",
    "not_key = ['并发症', '引发什么', '引发哪些', '会引发']\n",
    "intent_name = '并发症'\n",
    "select_querys(intent_name, not_key, data)"
   ]
  }
 ],
 "metadata": {
  "hide_input": false,
  "kernelspec": {
   "display_name": "nlp",
   "language": "python",
   "name": "nlp"
  },
  "language_info": {
   "codemirror_mode": {
    "name": "ipython",
    "version": 3
   },
   "file_extension": ".py",
   "mimetype": "text/x-python",
   "name": "python",
   "nbconvert_exporter": "python",
   "pygments_lexer": "ipython3",
   "version": "3.6.9"
  },
  "toc": {
   "base_numbering": 1,
   "nav_menu": {},
   "number_sections": false,
   "sideBar": true,
   "skip_h1_title": false,
   "title_cell": "目录",
   "title_sidebar": "Contents",
   "toc_cell": true,
   "toc_position": {},
   "toc_section_display": true,
   "toc_window_display": false
  }
 },
 "nbformat": 4,
 "nbformat_minor": 2
}
